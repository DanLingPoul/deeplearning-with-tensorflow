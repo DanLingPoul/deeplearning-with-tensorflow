{
 "cells": [
  {
   "cell_type": "code",
   "execution_count": 2,
   "metadata": {},
   "outputs": [
    {
     "name": "stdout",
     "output_type": "stream",
     "text": [
      "Extracting /tmp/data/train-images-idx3-ubyte.gz\n",
      "Extracting /tmp/data/train-labels-idx1-ubyte.gz\n",
      "Extracting /tmp/data/t10k-images-idx3-ubyte.gz\n",
      "Extracting /tmp/data/t10k-labels-idx1-ubyte.gz\n"
     ]
    }
   ],
   "source": [
    "from __future__ import division,print_function,absolute_import\n",
    "import tensorflow as tf\n",
    "from tensorflow.examples.tutorials.mnist import input_data\n",
    "mnist=input_data.read_data_sets(\"/tmp/data/\",one_hot=True)"
   ]
  },
  {
   "cell_type": "code",
   "execution_count": 9,
   "metadata": {
    "collapsed": true
   },
   "outputs": [],
   "source": [
    "learning_rate=0.001\n",
    "num_steps=500\n",
    "batch_size=128\n",
    "display_step=10\n",
    "\n",
    "num_input=784\n",
    "num_classes=10\n",
    "dropout=0.75\n",
    "\n",
    "X=tf.placeholder(tf.float32,[None,num_input])\n",
    "Y=tf.placeholder(tf.float32,[None,num_classes])\n",
    "keep_prob=tf.placeholder(tf.float32)"
   ]
  },
  {
   "cell_type": "code",
   "execution_count": 10,
   "metadata": {},
   "outputs": [],
   "source": [
    "def conv2d(x,W,b,strides=1):\n",
    "    #Conv2D wrapper,with bias and relu activation\n",
    "    x=tf.nn.conv2d(x,W,strides=[1,strides,strides,1],padding='SAME')\n",
    "    x=tf.nn.bias_add(x,b)\n",
    "    return tf.nn.relu(x)\n",
    "def maxpool2d(x,k=2):\n",
    "    return tf.nn.max_pool(x,ksize=[1,k,k,1],strides=[1,k,k,1],\n",
    "                         padding='SAME')\n",
    "#Create model\n",
    "def conv_net(x,weights,biases,dropout):\n",
    "    # MNIST data input is a 1-D vector of 784 features (28*28 pixels)\n",
    "    # Reshape to match picture format [Height x Width x Channel]\n",
    "    # Tensor input become 4-D: [Batch Size, Height, Width, Channel]\n",
    "    x=tf.reshape(x,shape=[-1,28,28,1])\n",
    "    conv1=conv2d(x,weights['wc1'],biases['bc1'])\n",
    "    conv1=maxpool2d(conv1,k=2)\n",
    "    \n",
    "    conv2=conv2d(conv1,weights['wc2'],biases['bc2'])\n",
    "    conv2=maxpool2d(conv2,k=2)\n",
    "    #Fully connected layer\n",
    "    fc1=tf.reshape(conv2,[-1,weights['wd1'].get_shape().as_list()[0]])\n",
    "    fc1=tf.add(tf.matmul(fc1,weights['wd1']),biases['bd1'])\n",
    "    fc1=tf.nn.relu(fc1)\n",
    "    #Apply Dropout\n",
    "    fc1=tf.nn.dropout(fc1,dropout)\n",
    "    #Output,class prediction\n",
    "    out=tf.add(tf.matmul(fc1,weights['out']),biases['out'])\n",
    "    return out\n"
   ]
  },
  {
   "cell_type": "code",
   "execution_count": 13,
   "metadata": {},
   "outputs": [],
   "source": [
    "weights={\n",
    "    #5x5 conv,1 input,32 output\n",
    "    'wc1':tf.Variable(tf.random_normal([5,5,1,32])),\n",
    "    'wc2':tf.Variable(tf.random_normal([5,5,32,64])),\n",
    "    'wd1':tf.Variable(tf.random_normal([7*7*64,1024])),\n",
    "    'out':tf.Variable(tf.random_normal([1024,num_classes]))\n",
    "    \n",
    "}\n",
    "biases={\n",
    "    'bc1':tf.Variable(tf.random_normal([32])),\n",
    "    'bc2':tf.Variable(tf.random_normal([64])),\n",
    "    'bd1':tf.Variable(tf.random_normal([1024])),\n",
    "    'out':tf.Variable(tf.random_normal([num_classes]))\n",
    "}\n",
    "#Construct model\n",
    "logits=conv_net(X,weights,biases,keep_prob)\n",
    "prediction=tf.nn.softmax(logits)\n",
    "#Define loss and optimizer\n",
    "loss_op=tf.reduce_mean(tf.nn.softmax_cross_entropy_with_logits(\n",
    "    logits=logits,labels=Y))\n",
    "optimizer=tf.train.AdamOptimizer(learning_rate=learning_rate)\n",
    "train_op=optimizer.minimize(loss_op)\n",
    "#Evaluate model\n",
    "correct_pred=tf.equal(tf.argmax(prediction,1),tf.argmax(Y,1))\n",
    "accuracy=tf.reduce_mean(tf.cast(correct_pred,tf.float32))\n",
    "\n",
    "init=tf.global_variables_initializer()\n"
   ]
  },
  {
   "cell_type": "code",
   "execution_count": 17,
   "metadata": {},
   "outputs": [
    {
     "name": "stdout",
     "output_type": "stream",
     "text": [
      "Step1,Minibatch Loss=78430.3906,Training Accuracy=0.133\n",
      "Step10,Minibatch Loss=27222.5938,Training Accuracy=0.172\n",
      "Step20,Minibatch Loss=15743.8262,Training Accuracy=0.422\n",
      "Step30,Minibatch Loss=8368.8506,Training Accuracy=0.578\n",
      "Step40,Minibatch Loss=6488.8955,Training Accuracy=0.727\n",
      "Step50,Minibatch Loss=5723.1040,Training Accuracy=0.719\n",
      "Step60,Minibatch Loss=2823.7346,Training Accuracy=0.875\n",
      "Step70,Minibatch Loss=3992.3042,Training Accuracy=0.781\n",
      "Step80,Minibatch Loss=2144.1958,Training Accuracy=0.891\n",
      "Step90,Minibatch Loss=1750.5883,Training Accuracy=0.883\n",
      "Step100,Minibatch Loss=2059.6582,Training Accuracy=0.859\n",
      "Step110,Minibatch Loss=2069.3232,Training Accuracy=0.844\n",
      "Step120,Minibatch Loss=1371.9783,Training Accuracy=0.914\n",
      "Step130,Minibatch Loss=1356.2539,Training Accuracy=0.930\n",
      "Step140,Minibatch Loss=2636.4849,Training Accuracy=0.859\n",
      "Step150,Minibatch Loss=1352.3926,Training Accuracy=0.891\n",
      "Step160,Minibatch Loss=2236.0269,Training Accuracy=0.883\n",
      "Step170,Minibatch Loss=2614.1062,Training Accuracy=0.891\n",
      "Step180,Minibatch Loss=1228.2495,Training Accuracy=0.906\n",
      "Step190,Minibatch Loss=2114.1089,Training Accuracy=0.852\n",
      "Step200,Minibatch Loss=774.2648,Training Accuracy=0.945\n",
      "Step210,Minibatch Loss=1166.0034,Training Accuracy=0.891\n",
      "Step220,Minibatch Loss=522.8924,Training Accuracy=0.945\n",
      "Step230,Minibatch Loss=1239.7886,Training Accuracy=0.914\n",
      "Step240,Minibatch Loss=1709.2306,Training Accuracy=0.906\n",
      "Step250,Minibatch Loss=1531.7616,Training Accuracy=0.922\n",
      "Step260,Minibatch Loss=1145.8989,Training Accuracy=0.906\n",
      "Step270,Minibatch Loss=1146.3542,Training Accuracy=0.938\n",
      "Step280,Minibatch Loss=1243.6581,Training Accuracy=0.938\n",
      "Step290,Minibatch Loss=953.2430,Training Accuracy=0.930\n",
      "Step300,Minibatch Loss=314.0356,Training Accuracy=0.961\n",
      "Step310,Minibatch Loss=614.1456,Training Accuracy=0.945\n",
      "Step320,Minibatch Loss=1287.9630,Training Accuracy=0.914\n",
      "Step330,Minibatch Loss=740.7876,Training Accuracy=0.945\n",
      "Step340,Minibatch Loss=668.6387,Training Accuracy=0.922\n",
      "Step350,Minibatch Loss=1276.8307,Training Accuracy=0.914\n",
      "Step360,Minibatch Loss=1249.1624,Training Accuracy=0.914\n",
      "Step370,Minibatch Loss=392.4665,Training Accuracy=0.945\n",
      "Step380,Minibatch Loss=287.2584,Training Accuracy=0.977\n",
      "Step390,Minibatch Loss=614.5336,Training Accuracy=0.969\n",
      "Step400,Minibatch Loss=64.2081,Training Accuracy=0.977\n",
      "Step410,Minibatch Loss=504.9543,Training Accuracy=0.945\n",
      "Step420,Minibatch Loss=1497.2524,Training Accuracy=0.922\n",
      "Step430,Minibatch Loss=345.6631,Training Accuracy=0.969\n",
      "Step440,Minibatch Loss=506.9811,Training Accuracy=0.953\n",
      "Step450,Minibatch Loss=415.0393,Training Accuracy=0.953\n",
      "Step460,Minibatch Loss=345.8262,Training Accuracy=0.969\n",
      "Step470,Minibatch Loss=385.0312,Training Accuracy=0.961\n",
      "Step480,Minibatch Loss=1401.4355,Training Accuracy=0.930\n",
      "Step490,Minibatch Loss=182.3123,Training Accuracy=0.984\n",
      "Step500,Minibatch Loss=703.2900,Training Accuracy=0.938\n",
      "Optimization Finished!\n",
      "Testing Accuracy: 0.972656\n"
     ]
    }
   ],
   "source": [
    "with tf.Session() as sess:\n",
    "    sess.run(init)\n",
    "    for step in range(1,num_steps+1):\n",
    "        batch_x,batch_y=mnist.train.next_batch(batch_size)\n",
    "        sess.run(train_op,feed_dict={X:batch_x,Y:batch_y,keep_prob:dropout})\n",
    "        if step%display_step==0 or step==1:\n",
    "            loss,acc=sess.run([loss_op,accuracy],feed_dict={X:batch_x,\n",
    "                                                           Y:batch_y,\n",
    "                                                           keep_prob:1.0})\n",
    "            print(\"Step\"+str(step)+\",Minibatch Loss=\"+\\\n",
    "                 \"{:.4f}\".format(loss)+\",Training Accuracy=\"+\\\n",
    "                 \"{:.3f}\".format(acc))\n",
    "    print(\"Optimization Finished!\")\n",
    "    print(\"Testing Accuracy:\",\\\n",
    "         sess.run(accuracy,feed_dict={X:mnist.test.images[:256],\n",
    "                                     Y:mnist.test.labels[:256],\n",
    "                                     keep_prob:1.0}))"
   ]
  }
 ],
 "metadata": {
  "kernelspec": {
   "display_name": "Python 3",
   "language": "python",
   "name": "python3"
  },
  "language_info": {
   "codemirror_mode": {
    "name": "ipython",
    "version": 3
   },
   "file_extension": ".py",
   "mimetype": "text/x-python",
   "name": "python",
   "nbconvert_exporter": "python",
   "pygments_lexer": "ipython3",
   "version": "3.6.0"
  }
 },
 "nbformat": 4,
 "nbformat_minor": 2
}
